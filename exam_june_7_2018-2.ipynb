{
 "cells": [
  {
   "cell_type": "markdown",
   "metadata": {},
   "source": [
    "Before you turn this problem in, make sure everything runs as expected. First, **restart the kernel** (in the menubar, select Kernel$\\rightarrow$Restart) and then **run all cells** (in the menubar, select Cell$\\rightarrow$Run All).\n",
    "\n",
    "Make sure you fill in any place that says `YOUR CODE HERE` or \"YOUR ANSWER HERE\", as well as your name and collaborators below:"
   ]
  },
  {
   "cell_type": "code",
   "execution_count": 2,
   "metadata": {},
   "outputs": [],
   "source": [
    "NAME = \"\"\n",
    "COLLABORATORS = \"\""
   ]
  },
  {
   "cell_type": "markdown",
   "metadata": {},
   "source": [
    "---"
   ]
  },
  {
   "cell_type": "markdown",
   "metadata": {},
   "source": [
    "Fill in the cell above to provide us with your name and student number, like\n",
    "\n",
    "NAME = \"Adam Smith, #student number#\"\n",
    "\n",
    "where you replace \"#student number#\" with your ... (very good!)\n",
    "\n",
    "and if you are doing this with someone else (not more than one other person):\n",
    "\n",
    "COLLABORATORS = \"Karl Marx, #student number#\""
   ]
  },
  {
   "cell_type": "markdown",
   "metadata": {
    "deletable": false,
    "editable": false,
    "nbgrader": {
     "checksum": "a7ae5c69becf064d614c6c38935eca51",
     "grade": false,
     "grade_id": "cell-895e9a7b94992ec9",
     "locked": true,
     "schema_version": 1,
     "solution": false
    }
   },
   "source": [
    "# exam June 7th, 2018\n"
   ]
  },
  {
   "cell_type": "markdown",
   "metadata": {
    "deletable": false,
    "editable": false,
    "nbgrader": {
     "checksum": "bc48d165f54aa364aa34509649fcdef5",
     "grade": false,
     "grade_id": "cell-540987818af25557",
     "locked": true,
     "schema_version": 1,
     "solution": false
    }
   },
   "source": [
    "\n",
    "In the first cell of the notebook, give us your name and student number in the way indicated above. If you do this notebook with --at max.-- one other student, give her/his name and student number as well under \"COLLABORATORS\".\n",
    "\n",
    "Fill in the notebook (see below for code cells and text cells that you need to fill in).\n",
    "\n",
    "If you look at the menus above (File, Edit, View etc.), there is one called \"Cell\". If you click on this, you can change the \"Cell Type\". Choose \"Code\" when you are typing python or R code. Choose \"Markdown\" when you are typing, well, markdown.\n",
    "\n",
    "When you finish the notebook, make sure that you **save it with the output of your code included**. \n",
    "\n",
    "Then put it on github, e.g. by dragging it onto github (see instructions below). \n",
    "\n",
    "Finally, add a link to your README file with the name of this exam: \"Exam June 7, 2018\".\n",
    "\n"
   ]
  },
  {
   "cell_type": "markdown",
   "metadata": {
    "deletable": false,
    "editable": false,
    "nbgrader": {
     "checksum": "6fad9bed312da1b0097e9c520b18e3fb",
     "grade": false,
     "grade_id": "cell-e1cf88cb799f1f43",
     "locked": true,
     "schema_version": 1,
     "solution": false
    }
   },
   "source": [
    "## price effects of mergers\n",
    "\n",
    "We consider a merger in this notebook. \n",
    "\n",
    "First we calculate the equilibrium with three firms, denoted by 1, 2 and 3. Then firms 2 and 3 merge so that we are left with 2 firms; denoted by 1 and 2.\n",
    "\n",
    "We calculate the effects of the merger on the equilibrium price.\n",
    "\n",
    "We start by importing the usual libraries."
   ]
  },
  {
   "cell_type": "code",
   "execution_count": 3,
   "metadata": {
    "deletable": false,
    "editable": false,
    "nbgrader": {
     "checksum": "7bd770ef54db47c3b6c8d0e31f6baef6",
     "grade": false,
     "grade_id": "cell-b895769bf40e183a",
     "locked": true,
     "schema_version": 1,
     "solution": false
    }
   },
   "outputs": [],
   "source": [
    "import matplotlib.pyplot as plt\n",
    "import pandas as pd\n",
    "import numpy as np\n",
    "from scipy import optimize\n",
    "%matplotlib inline"
   ]
  },
  {
   "cell_type": "markdown",
   "metadata": {},
   "source": [
    "The following code helps to calculate the equilibrium for the case with 3 firms. Note that you have seen similar code during the tutorials to calculate the equilibrium with 2 firms.\n",
    "\n",
    "We assume that before the merger each firm has constant marginal costs equal to 0.3. We assume a simple linear (inverse) demand curve of the form $p=1-Q$ where $p$ denotes price and $Q$ total output on the market. Total output equals the sum of each firm's output: $Q= q_1 + q_2+q_3$."
   ]
  },
  {
   "cell_type": "code",
   "execution_count": 4,
   "metadata": {
    "deletable": false,
    "editable": false,
    "nbgrader": {
     "checksum": "3e30f7ac9d9155ef089b8ca56a0c0436",
     "grade": false,
     "grade_id": "cell-f97a25efed556fd2",
     "locked": true,
     "schema_version": 1,
     "solution": false
    }
   },
   "outputs": [],
   "source": [
    "c0 = 0.3\n",
    "vector_c = [c0]*3\n",
    "\n",
    "def p(Q):\n",
    "    return 1 - Q\n",
    "\n",
    "def costs(q,c):\n",
    "    return c*q\n",
    "\n",
    "def profits(q,Q_other,c):\n",
    "    return p(q+Q_other)*q-costs(q,c)\n",
    "\n",
    "def reaction(Q_other,c):\n",
    "    q1 =  optimize.fminbound(lambda x: -profits(x,Q_other,c),0,1,full_output=1)\n",
    "    return q1[0]\n",
    "\n",
    "def fixed_point_three_firms(vector_q,vector_c):\n",
    "    return [vector_q[0]-reaction(vector_q[1]+vector_q[2],vector_c[0]),\n",
    "            vector_q[1]-reaction(vector_q[0]+vector_q[2],vector_c[1]),\n",
    "            vector_q[2]-reaction(vector_q[0]+vector_q[1],vector_c[2])]\n",
    "\n"
   ]
  },
  {
   "cell_type": "markdown",
   "metadata": {
    "deletable": false,
    "editable": false,
    "nbgrader": {
     "checksum": "f6ea3b2416aca7293a5450c45865f242",
     "grade": false,
     "grade_id": "cell-83284c4090d6de8c",
     "locked": true,
     "schema_version": 1,
     "solution": false
    }
   },
   "source": [
    "#### a) [0.5 points] Show that total equilibrium output equals  0.525. Derive the equilibrium price and Herfindahl index; denote these by `P0` and `H0` resp."
   ]
  },
  {
   "cell_type": "code",
   "execution_count": 19,
   "metadata": {
    "deletable": false,
    "nbgrader": {
     "checksum": "a06d73c35395adb00480733b458cb4a5",
     "grade": true,
     "grade_id": "cell-3b8ee172d9950128",
     "locked": false,
     "points": 0.5,
     "schema_version": 1,
     "solution": true
    }
   },
   "outputs": [
    {
     "name": "stdout",
     "output_type": "stream",
     "text": [
      "0.525\n"
     ]
    }
   ],
   "source": [
    "initial_guess = [0,0,0]\n",
    "\n",
    "Q = optimize.fsolve(lambda q: fixed_point_three_firms(q,[0.3,0.3,0.3]), initial_guess)\n",
    "\n",
    "Q0 = np.sum(Q)\n",
    "print(Q0)"
   ]
  },
  {
   "cell_type": "markdown",
   "metadata": {},
   "source": [
    "First we calculate the equilibrium output when there are three companies which takes all the same piece of the market(same market share) and that delivers us an array with three values that are the same (0,175). After that we use the letter Q(Output) to get this values in an array and we sum this values with the functie np.sum(O) and gives this the name Q0(Total Output). Then we print the Total Output"
   ]
  },
  {
   "cell_type": "code",
   "execution_count": 38,
   "metadata": {},
   "outputs": [
    {
     "name": "stdout",
     "output_type": "stream",
     "text": [
      "0.475\n"
     ]
    }
   ],
   "source": [
    "P0 = 1 - Q0\n",
    "print(P0)"
   ]
  },
  {
   "cell_type": "markdown",
   "metadata": {},
   "source": [
    "The equilibrium price is 1 minus the total output and we name it P0 as requested"
   ]
  },
  {
   "cell_type": "code",
   "execution_count": 50,
   "metadata": {},
   "outputs": [
    {
     "name": "stdout",
     "output_type": "stream",
     "text": [
      "2.6617603322783636\n"
     ]
    }
   ],
   "source": [
    "O1 = Q[0]\n",
    "O2 = Q[1]\n",
    "O3 = Q[2]\n",
    "\n",
    "H0 = (O1/Q0)**2 + (O2/Q0)**2 + (O3/Q0)**2\n",
    "\n",
    "print(H0)"
   ]
  },
  {
   "cell_type": "markdown",
   "metadata": {},
   "source": [
    "First we name every output of a company with O1, O2 or O3. After that we calculate the Herfindahl index: (Output company/Total Output) and then multiply this value with itself. We do this for every company and that adding all the values up and that gives us the Herfindahl index."
   ]
  },
  {
   "cell_type": "markdown",
   "metadata": {
    "deletable": false,
    "editable": false,
    "nbgrader": {
     "checksum": "87b3b3e0e2d645c280e279312e489dc4",
     "grade": false,
     "grade_id": "cell-4b33762aa4a601fe",
     "locked": true,
     "schema_version": 1,
     "solution": false
    }
   },
   "source": [
    "#### b) [0.5 point] Define a function `fixed_point_two_firms` with the same structure as the function `fixed_point_three_firms` above, except that it derives the equilibrium output levels for a duopoly (two firms). Test this function by showing that each of the two firms produces 0.3333 in case both firms have zero costs."
   ]
  },
  {
   "cell_type": "code",
   "execution_count": 24,
   "metadata": {
    "deletable": false,
    "nbgrader": {
     "checksum": "024a1519155d681b57c85292df535a65",
     "grade": true,
     "grade_id": "cell-5ee215676b91f504",
     "locked": false,
     "points": 0.5,
     "schema_version": 1,
     "solution": true
    }
   },
   "outputs": [
    {
     "name": "stdout",
     "output_type": "stream",
     "text": [
      "[0.33333333 0.33333333]\n"
     ]
    }
   ],
   "source": [
    "c0 = 0\n",
    "vector_c = [c0]*2\n",
    "\n",
    "def fixed_point_two_firms(vector_q,vector_c):\n",
    "    return [vector_q[0]-reaction(vector_q[1],vector_c[0]),\n",
    "            vector_q[1]-reaction(vector_q[0],vector_c[1])]\n",
    "\n",
    "initial_guess= [0,0]\n",
    "\n",
    "Q1 = optimize.fsolve(lambda q: fixed_point_two_firms(q,[0,0]), initial_guess)\n",
    "\n",
    "print(Q1)"
   ]
  },
  {
   "cell_type": "markdown",
   "metadata": {},
   "source": [
    "First we changed two things in the originally code: The marginal cost are not 0,3 but 0 and we changed the function fixed_point_three_firms into a function of two firms(fixed_point_two_firms). After that we did the samen calculation as in a) to calculate the output for each company."
   ]
  },
  {
   "cell_type": "markdown",
   "metadata": {
    "deletable": false,
    "editable": false,
    "nbgrader": {
     "checksum": "5291fc8716e367572fde17ebe5844d2f",
     "grade": false,
     "grade_id": "cell-c2fada02efd7b197",
     "locked": true,
     "schema_version": 1,
     "solution": false
    }
   },
   "source": [
    "The Dutch competition authority, ACM, is asked to evaluate the effects of a merger between firms 2 and 3. Firms 2 and 3 claim that by merging they can reduce their constant marginal costs. But it is not clear by how much they will reduce their costs.\n",
    "\n",
    "The ACM assumes that the marginal cost level of the merged firm is uniformly distributed between 0 and the current marginal cost level `c0`. The merger will not affect the marginal cost level of firm 1 who does not merge. Firm 1's cost level remains `c0`.\n",
    "\n",
    "The next cell generates a vector of cost levels for the merged firm, denoted `c_after_merger`. Evaluate \"c_after_merger\" in a separate cell if you do not understand the command that defines it.\n",
    "\n",
    "Then it calculates the equilibrium output levels for (the non-merging) firm 1 and (the merged) firm 2.\n",
    "\n",
    "Note that you need to specify `initial_guess`.\n"
   ]
  },
  {
   "cell_type": "code",
   "execution_count": null,
   "metadata": {
    "deletable": false,
    "editable": false,
    "nbgrader": {
     "checksum": "11299317cd53e31de9900700999b0324",
     "grade": false,
     "grade_id": "cell-ce91ab3e3225c57d",
     "locked": true,
     "schema_version": 1,
     "solution": false
    }
   },
   "outputs": [],
   "source": [
    "c_after_merger = np.random.uniform(0,c0,size = 100)\n",
    "\n",
    "q1_after_merger = [optimize.fsolve(lambda q: fixed_point_two_firms(q,[c0,c]), initial_guess)[0] for c in c_after_merger]\n",
    "q2_after_merger = [optimize.fsolve(lambda q: fixed_point_two_firms(q,[c0,c]), initial_guess)[1] for c in c_after_merger]\n",
    "\n",
    "\n"
   ]
  },
  {
   "cell_type": "markdown",
   "metadata": {
    "deletable": false,
    "editable": false,
    "nbgrader": {
     "checksum": "2b518306d6ff20ee42d0bc3085333095",
     "grade": false,
     "grade_id": "cell-0acc18b4f07a09f4",
     "locked": true,
     "schema_version": 1,
     "solution": false
    }
   },
   "source": [
    "#### c) [0.5 points] Create a dataframe called `df_after_merger` with three columns: `c_merged_firm`, `output_non_merging_firm`, `output_merged_firm` containing resp. the cost level of the merged firm, the output level of firm 1 and the output level of firm 2."
   ]
  },
  {
   "cell_type": "code",
   "execution_count": 31,
   "metadata": {
    "deletable": false,
    "nbgrader": {
     "checksum": "f4fc6a3bdef91fa3f656ccd3290c9f54",
     "grade": true,
     "grade_id": "cell-f3eacda828774f2d",
     "locked": false,
     "points": 0.5,
     "schema_version": 1,
     "solution": true
    }
   },
   "outputs": [
    {
     "name": "stdout",
     "output_type": "stream",
     "text": [
      "    c_merged_firm  output_merged_firm  output_non_merging_firm\n",
      "0        0.270875            0.252750                 0.223625\n",
      "1        0.202545            0.298303                 0.200848\n",
      "2        0.177483            0.315011                 0.192494\n",
      "3        0.269804            0.253464                 0.223268\n",
      "4        0.246370            0.269087                 0.215457\n",
      "5        0.023067            0.417955                 0.141022\n",
      "6        0.062548            0.391635                 0.154183\n",
      "7        0.005631            0.429580                 0.135210\n",
      "8        0.231526            0.278983                 0.210509\n",
      "9        0.137373            0.341751                 0.179124\n",
      "10       0.011580            0.425614                 0.137193\n",
      "11       0.128181            0.347879                 0.176060\n",
      "12       0.029187            0.413875                 0.143062\n",
      "13       0.079377            0.380416                 0.159792\n",
      "14       0.061599            0.392267                 0.153866\n",
      "15       0.298487            0.234342                 0.232829\n",
      "16       0.157415            0.328390                 0.185805\n",
      "17       0.271410            0.252393                 0.223803\n",
      "18       0.012584            0.424944                 0.137528\n",
      "19       0.042137            0.405242                 0.147379\n",
      "20       0.091648            0.372235                 0.163883\n",
      "21       0.259949            0.260034                 0.219983\n",
      "22       0.255633            0.262911                 0.218544\n",
      "23       0.082355            0.378430                 0.160785\n",
      "24       0.297299            0.235134                 0.232433\n",
      "25       0.115323            0.356451                 0.171774\n",
      "26       0.195385            0.303077                 0.198462\n",
      "27       0.105256            0.363163                 0.168419\n",
      "28       0.203720            0.297520                 0.201240\n",
      "29       0.004030            0.430647                 0.134677\n",
      "..            ...                 ...                      ...\n",
      "70       0.022442            0.418372                 0.140814\n",
      "71       0.092679            0.371547                 0.164226\n",
      "72       0.161606            0.325596                 0.187202\n",
      "73       0.244274            0.270484                 0.214758\n",
      "74       0.180078            0.313281                 0.193359\n",
      "75       0.160668            0.326221                 0.186889\n",
      "76       0.117525            0.354983                 0.172508\n",
      "77       0.156483            0.329012                 0.185494\n",
      "78       0.295666            0.236223                 0.231889\n",
      "79       0.227790            0.281473                 0.209263\n",
      "80       0.029935            0.413377                 0.143312\n",
      "81       0.268189            0.254541                 0.222730\n",
      "82       0.262243            0.258505                 0.220748\n",
      "83       0.293794            0.237471                 0.231265\n",
      "84       0.107463            0.361691                 0.169154\n",
      "85       0.116339            0.355774                 0.172113\n",
      "86       0.262681            0.258213                 0.220894\n",
      "87       0.191439            0.305707                 0.197146\n",
      "88       0.010783            0.426145                 0.136928\n",
      "89       0.248596            0.267603                 0.216199\n",
      "90       0.017784            0.421477                 0.139261\n",
      "91       0.290249            0.239834                 0.230083\n",
      "92       0.268710            0.254193                 0.222903\n",
      "93       0.072277            0.385149                 0.157426\n",
      "94       0.171563            0.318958                 0.190521\n",
      "95       0.288504            0.240998                 0.229501\n",
      "96       0.182701            0.311533                 0.194234\n",
      "97       0.118071            0.354619                 0.172690\n",
      "98       0.027301            0.415132                 0.142434\n",
      "99       0.225888            0.282741                 0.208629\n",
      "\n",
      "[100 rows x 3 columns]\n"
     ]
    }
   ],
   "source": [
    "c0 = 0.3\n",
    "c_after_merger = np.random.uniform(0,c0,size = 100)\n",
    "initial_guess=[0,0]\n",
    "q1_after_merger = [optimize.fsolve(lambda q: fixed_point_two_firms(q,[c0,c]), initial_guess)[0] for c in c_after_merger]\n",
    "q2_after_merger = [optimize.fsolve(lambda q: fixed_point_two_firms(q,[c0,c]), initial_guess)[1] for c in c_after_merger]\n",
    "c_merged_firm = c_after_merger\n",
    "output_non_merging_firm = q1_after_merger\n",
    "output_merged_firm = q2_after_merger\n",
    "data = {'c_merged_firm':c_merged_firm,'output_non_merging_firm':output_non_merging_firm,'output_merged_firm':output_merged_firm}\n",
    "df_after_merger = pd.DataFrame(data)\n",
    "print(df_after_merger)"
   ]
  },
  {
   "cell_type": "markdown",
   "metadata": {
    "deletable": false,
    "editable": false,
    "nbgrader": {
     "checksum": "a5bf4171960844da9c57375d83b6eedf",
     "grade": false,
     "grade_id": "cell-7ad058be42e19df8",
     "locked": true,
     "schema_version": 1,
     "solution": false
    }
   },
   "source": [
    "#### d) [0.5 points] Add three columns to the dataframe with resp. total equilibrium output on the market, `Q`, equilibrium price, `P` and the Herfindahl index, `H`."
   ]
  },
  {
   "cell_type": "code",
   "execution_count": 32,
   "metadata": {
    "deletable": false,
    "nbgrader": {
     "checksum": "ab6179623b39a6ae634abea45326e4ab",
     "grade": true,
     "grade_id": "cell-9c39b11747803ca1",
     "locked": false,
     "points": 0.5,
     "schema_version": 1,
     "solution": true
    }
   },
   "outputs": [
    {
     "name": "stdout",
     "output_type": "stream",
     "text": [
      "           H         P         Q  c_merged_firm  output_merged_firm  \\\n",
      "0   0.501869  0.523625  0.476375       0.270875            0.252750   \n",
      "1   0.519060  0.500848  0.499152       0.202545            0.298303   \n",
      "2   0.529139  0.492494  0.507506       0.177483            0.315011   \n",
      "3   0.502006  0.523268  0.476732       0.269804            0.253464   \n",
      "4   0.506125  0.515457  0.484543       0.246370            0.269087   \n",
      "5   0.622724  0.441022  0.558978       0.023067            0.417955   \n",
      "6   0.594630  0.454183  0.545817       0.062548            0.391635   \n",
      "7   0.635826  0.435210  0.564790       0.005631            0.429580   \n",
      "8   0.509784  0.510509  0.489491       0.231526            0.278983   \n",
      "9   0.548740  0.479124  0.520876       0.137373            0.341751   \n",
      "10  0.631312  0.437193  0.562807       0.011580            0.425614   \n",
      "11  0.553771  0.476060  0.523940       0.128181            0.347879   \n",
      "12  0.618221  0.443062  0.556938       0.029187            0.413875   \n",
      "13  0.583397  0.459792  0.540208       0.079377            0.380416   \n",
      "14  0.595277  0.453866  0.546134       0.061599            0.392267   \n",
      "15  0.500005  0.532829  0.467171       0.298487            0.234342   \n",
      "16  0.538447  0.485805  0.514195       0.157415            0.328390   \n",
      "17  0.501802  0.523803  0.476197       0.271410            0.252393   \n",
      "18  0.630554  0.437528  0.562472       0.012584            0.424944   \n",
      "19  0.608867  0.447379  0.552621       0.042137            0.405242   \n",
      "20  0.575517  0.463883  0.536117       0.091648            0.372235   \n",
      "21  0.503481  0.519983  0.480017       0.259949            0.260034   \n",
      "22  0.504246  0.518544  0.481456       0.255633            0.262911   \n",
      "23  0.581460  0.460785  0.539215       0.082355            0.378430   \n",
      "24  0.500017  0.532433  0.467567       0.297299            0.235134   \n",
      "25  0.561116  0.471774  0.528226       0.115323            0.356451   \n",
      "26  0.521755  0.498462  0.501538       0.195385            0.303077   \n",
      "27  0.567106  0.468419  0.531581       0.105256            0.363163   \n",
      "28  0.518632  0.501240  0.498760       0.203720            0.297520   \n",
      "29  0.637048  0.434677  0.565323       0.004030            0.430647   \n",
      "..       ...       ...       ...            ...                 ...   \n",
      "70  0.623187  0.440814  0.559186       0.022442            0.418372   \n",
      "71  0.574868  0.464226  0.535774       0.092679            0.371547   \n",
      "72  0.536418  0.487202  0.512798       0.161606            0.325596   \n",
      "73  0.506594  0.514758  0.485242       0.244274            0.270484   \n",
      "74  0.528013  0.493359  0.506641       0.180078            0.313281   \n",
      "75  0.536868  0.486889  0.513111       0.160668            0.326221   \n",
      "76  0.559834  0.472508  0.527492       0.117525            0.354983   \n",
      "77  0.538904  0.485494  0.514506       0.156483            0.329012   \n",
      "78  0.500043  0.531889  0.468111       0.295666            0.236223   \n",
      "79  0.510826  0.509263  0.490737       0.227790            0.281473   \n",
      "80  0.617675  0.443312  0.556688       0.029935            0.413377   \n",
      "81  0.502221  0.522730  0.477270       0.268189            0.254541   \n",
      "82  0.503103  0.520748  0.479252       0.262243            0.258505   \n",
      "83  0.500088  0.531265  0.468735       0.293794            0.237471   \n",
      "84  0.565775  0.469154  0.530846       0.107463            0.361691   \n",
      "85  0.560523  0.472113  0.527887       0.116339            0.355774   \n",
      "86  0.503034  0.520894  0.479106       0.262681            0.258213   \n",
      "87  0.523304  0.497146  0.502854       0.191439            0.305707   \n",
      "88  0.631914  0.436928  0.563072       0.010783            0.426145   \n",
      "89  0.505645  0.516199  0.483801       0.248596            0.267603   \n",
      "90  0.626652  0.439261  0.560739       0.017784            0.421477   \n",
      "91  0.500215  0.530083  0.469917       0.290249            0.239834   \n",
      "92  0.502151  0.522903  0.477097       0.268710            0.254193   \n",
      "93  0.588078  0.457426  0.542574       0.072277            0.385149   \n",
      "94  0.531776  0.490521  0.509479       0.171563            0.318958   \n",
      "95  0.500299  0.529501  0.470499       0.288504            0.240998   \n",
      "96  0.526894  0.494234  0.505766       0.182701            0.311533   \n",
      "97  0.559517  0.472690  0.527310       0.118071            0.354619   \n",
      "98  0.619603  0.442434  0.557566       0.027301            0.415132   \n",
      "99  0.511374  0.508629  0.491371       0.225888            0.282741   \n",
      "\n",
      "    output_non_merging_firm  \n",
      "0                  0.223625  \n",
      "1                  0.200848  \n",
      "2                  0.192494  \n",
      "3                  0.223268  \n",
      "4                  0.215457  \n",
      "5                  0.141022  \n",
      "6                  0.154183  \n",
      "7                  0.135210  \n",
      "8                  0.210509  \n",
      "9                  0.179124  \n",
      "10                 0.137193  \n",
      "11                 0.176060  \n",
      "12                 0.143062  \n",
      "13                 0.159792  \n",
      "14                 0.153866  \n",
      "15                 0.232829  \n",
      "16                 0.185805  \n",
      "17                 0.223803  \n",
      "18                 0.137528  \n",
      "19                 0.147379  \n",
      "20                 0.163883  \n",
      "21                 0.219983  \n",
      "22                 0.218544  \n",
      "23                 0.160785  \n",
      "24                 0.232433  \n",
      "25                 0.171774  \n",
      "26                 0.198462  \n",
      "27                 0.168419  \n",
      "28                 0.201240  \n",
      "29                 0.134677  \n",
      "..                      ...  \n",
      "70                 0.140814  \n",
      "71                 0.164226  \n",
      "72                 0.187202  \n",
      "73                 0.214758  \n",
      "74                 0.193359  \n",
      "75                 0.186889  \n",
      "76                 0.172508  \n",
      "77                 0.185494  \n",
      "78                 0.231889  \n",
      "79                 0.209263  \n",
      "80                 0.143312  \n",
      "81                 0.222730  \n",
      "82                 0.220748  \n",
      "83                 0.231265  \n",
      "84                 0.169154  \n",
      "85                 0.172113  \n",
      "86                 0.220894  \n",
      "87                 0.197146  \n",
      "88                 0.136928  \n",
      "89                 0.216199  \n",
      "90                 0.139261  \n",
      "91                 0.230083  \n",
      "92                 0.222903  \n",
      "93                 0.157426  \n",
      "94                 0.190521  \n",
      "95                 0.229501  \n",
      "96                 0.194234  \n",
      "97                 0.172690  \n",
      "98                 0.142434  \n",
      "99                 0.208629  \n",
      "\n",
      "[100 rows x 6 columns]\n"
     ]
    }
   ],
   "source": [
    "qmf= np.array(output_merged_firm)\n",
    "qnmf= np.array(output_non_merging_firm)\n",
    "Q = qmf+qnmf\n",
    "Qnp= np.array(Q)\n",
    "H = ((qmf/Qnp)**2)+((qnmf/Qnp)**2)\n",
    "P = (100*[1]) - Qnp\n",
    "data = {'c_merged_firm':c_merged_firm,'output_non_merging_firm':output_non_merging_firm,'output_merged_firm':output_merged_firm, 'Q':Q, 'H':H, 'P':P}\n",
    "df_after_merger = pd.DataFrame(data)\n",
    "print(df_after_merger)"
   ]
  },
  {
   "cell_type": "markdown",
   "metadata": {},
   "source": [
    "#### e) [0.5 points] Make a histogram of the equilibrium price `P` after the merger. Also indicate in the histogram the equilibrium price before the merger `P0`. Label the horizontal axis with $P$.\n",
    "\n",
    "[hint: you may want to use matplotlib's `hist`, `vlines` and `legend` to make this graph (e.g use google to find these functions); but feel free to use something else]"
   ]
  },
  {
   "cell_type": "code",
   "execution_count": 29,
   "metadata": {
    "deletable": false,
    "nbgrader": {
     "checksum": "b103cd98545261b20f937f4b9db67f68",
     "grade": true,
     "grade_id": "cell-f9193bf8e71f1a9a",
     "locked": false,
     "points": 0.5,
     "schema_version": 1,
     "solution": true
    }
   },
   "outputs": [
    {
     "data": {
      "image/png": "[encoded data removed]",
      "text/plain": [
       "<matplotlib.figure.Figure at 0x9eb7828>"
      ]
     },
     "metadata": {},
     "output_type": "display_data"
    }
   ],
   "source": [
    "Equilibrium_price = df_after_merger['P']\n",
    "plt.hist(Equilibrium_price, facecolor='red', alpha=12, edgecolor='black')\n",
    "plt.xlabel('$P$')\n",
    "plt.axvline(0.475, color='k', linestyle='dashed', linewidth=2)\n",
    "\n",
    "plt.show()"
   ]
  },
  {
   "cell_type": "markdown",
   "metadata": {},
   "source": [
    "#### f) [0.5 points] Explain why sometimes the equilibrium price after the merger exceeds the equilibrium price before the merger and sometimes it is lower than the pre-merger price. [hint: there is a trade off between two effects, depending on which effect dominates, equilibrium price increases or decreases after the merger]"
   ]
  },
  {
   "cell_type": "markdown",
   "metadata": {
    "deletable": false,
    "nbgrader": {
     "checksum": "dd9fc721b7cf7f66587e93cbfb758034",
     "grade": true,
     "grade_id": "cell-7a1f367cd2854156",
     "locked": false,
     "points": 0.5,
     "schema_version": 1,
     "solution": true
    }
   },
   "source": [
    "The trade off is between the decrease in marginal costs and the increase in quantity produced per firm. When the decrease in marginal costs is smaller than the increase in quantity produced, the price will end up being higher than the price before merger, and it works the other way around."
   ]
  },
  {
   "cell_type": "markdown",
   "metadata": {
    "deletable": false,
    "editable": false,
    "nbgrader": {
     "checksum": "e1e41dbf14c605bf91cdc78f70eada99",
     "grade": false,
     "grade_id": "cell-06ed6044f8938a45",
     "locked": true,
     "schema_version": 1,
     "solution": false
    }
   },
   "source": [
    "#### g) [0.5 points] Make a graph with the Herfindahl index on the horizontal axis and the equilibrium price on the vertical axis. This is straightforward for $(H,P)$ after the merger as both values are in the dataframe. Add in another color, the pre-merger combination `(H0,P0)` that we calculated above."
   ]
  },
  {
   "cell_type": "code",
   "execution_count": 48,
   "metadata": {
    "deletable": false,
    "nbgrader": {
     "checksum": "51cfaacbaf533e85d9794bc74712afd5",
     "grade": true,
     "grade_id": "cell-d647464d04870b73",
     "locked": false,
     "points": 0.5,
     "schema_version": 1,
     "solution": true
    }
   },
   "outputs": [
    {
     "data": {
      "text/plain": [
       "<matplotlib.collections.PathCollection at 0x81685f8>"
      ]
     },
     "execution_count": 48,
     "metadata": {},
     "output_type": "execute_result"
    },
    {
     "data": {
      "image/png": "[encoded data removed]",
      "text/plain": [
       "<matplotlib.figure.Figure at 0x82d1c50>"
      ]
     },
     "metadata": {},
     "output_type": "display_data"
    }
   ],
   "source": [
    "plt.xlabel(\"H\")\n",
    "plt.ylabel(\"P\")\n",
    "plt.plot(H,P)\n",
    "plt.scatter(H0, P0, color='Orange')"
   ]
  },
  {
   "cell_type": "markdown",
   "metadata": {
    "deletable": false,
    "editable": false,
    "nbgrader": {
     "checksum": "11b6609131b1c25886f2c6cafe0f7a59",
     "grade": false,
     "grade_id": "cell-5c5e5776a7c135a2",
     "locked": true,
     "schema_version": 1,
     "solution": false
    }
   },
   "source": [
    "#### h) [0.5 points] Use the graph under g) to discuss the relation between the Herfindahl index and the equilibrium price. To illustrate, some people think that lower values of the Herfindahl index are associated with more competitive outcome. Would you agree with this?"
   ]
  },
  {
   "cell_type": "markdown",
   "metadata": {
    "collapsed": true,
    "deletable": false,
    "nbgrader": {
     "checksum": "3d396887dde3b00420c623b9f4ea8ed2",
     "grade": true,
     "grade_id": "cell-cbd89d483b23a953",
     "locked": false,
     "points": 0.5,
     "schema_version": 1,
     "solution": true
    }
   },
   "source": [
    "The higher the Herfindahl index, the lower the equilibrium price, but a lower price tells u nothing about the competitive outcome."
   ]
  },
  {
   "cell_type": "markdown",
   "metadata": {},
   "source": [
    "## Github\n",
    "\n",
    "After you have finished, we need to upload this notebook on github. Make sure that you upload the file on the github page of each collaborator."
   ]
  },
  {
   "cell_type": "markdown",
   "metadata": {},
   "source": [
    "Instructions on how to upload this on github can be found [on this page](http://janboone.github.io/programming-for-economists/github.html). This page has two screencasts: one shows how to drag the notebook onto your github page, the other shows how you can use the command line to upload your notebook.\n"
   ]
  },
  {
   "cell_type": "markdown",
   "metadata": {},
   "source": [
    "Remember to update the README file in your repository to include a link to this notebook on github.\n",
    "\n",
    "\n",
    "The links that you should post start with “github.com/” and are NOT of the form “http://localhost”. Make sure you test your links after uploading."
   ]
  },
  {
   "cell_type": "code",
   "execution_count": null,
   "metadata": {
    "collapsed": true
   },
   "outputs": [],
   "source": []
  }
 ],
 "metadata": {
  "anaconda-cloud": {},
  "kernelspec": {
   "display_name": "Python 3",
   "language": "python",
   "name": "python3"
  },
  "language_info": {
   "codemirror_mode": {
    "name": "ipython",
    "version": 3
   },
   "file_extension": ".py",
   "mimetype": "text/x-python",
   "name": "python",
   "nbconvert_exporter": "python",
   "pygments_lexer": "ipython3",
   "version": "3.6.4"
  }
 },
 "nbformat": 4,
 "nbformat_minor": 1
}
